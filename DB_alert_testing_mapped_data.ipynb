{
 "cells": [
  {
   "cell_type": "code",
   "execution_count": 2,
   "metadata": {},
   "outputs": [],
   "source": [
    "import time\n",
    "start_time = time.time()\n",
    "import pandas as pd\n",
    "import numpy as np\n",
    "import matplotlib.pyplot as plt\n",
    "import seaborn as sns\n",
    "from datetime import datetime\n",
    "from math import sin, cos, sqrt, atan2, radians, acos"
   ]
  },
  {
   "cell_type": "code",
   "execution_count": 3,
   "metadata": {},
   "outputs": [],
   "source": [
    "data = pd.read_csv(r'C:\\Users\\INFO-DSK-04\\Desktop\\Asset_Data\\SQL Server\\Data_354972062885746.csv')\n",
    "# data.head()"
   ]
  },
  {
   "cell_type": "code",
   "execution_count": 4,
   "metadata": {
    "scrolled": true
   },
   "outputs": [],
   "source": [
    "# data.info()"
   ]
  },
  {
   "cell_type": "code",
   "execution_count": 5,
   "metadata": {},
   "outputs": [],
   "source": [
    "data.rename(columns={\"TrackDateTime_new\":\"TrackDateTime\"},inplace=True)"
   ]
  },
  {
   "cell_type": "code",
   "execution_count": 6,
   "metadata": {
    "scrolled": false
   },
   "outputs": [],
   "source": [
    "# sns.distplot(data['Speed'], hist=True, kde=True, \n",
    "#              bins=int(180/5), color = 'darkblue', \n",
    "#              hist_kws={'edgecolor':'black'},\n",
    "#              kde_kws={'linewidth': 4})"
   ]
  },
  {
   "cell_type": "code",
   "execution_count": 7,
   "metadata": {},
   "outputs": [],
   "source": [
    "#Function for changing the syntax of datetime to a paticular format\n",
    "new_format = \"%Y:%m:%d %H:%M:%S\"\n",
    "def change_datetime_syntax(date_text):\n",
    "    try:\n",
    "        d=datetime.strptime( date_text , '%d-%m-%Y %H:%M:%S.%f') \n",
    "        date_text=d.strftime(new_format)\n",
    "        return date_text\n",
    "    except:  \n",
    "        try:\n",
    "            d=datetime.strptime(date_text , '%d-%m-%Y %H:%M:%S') \n",
    "            date_text=d.strftime(new_format)\n",
    "            return date_text\n",
    "        except:\n",
    "            try:\n",
    "                d=datetime.strptime(date_text , '%Y:%m:%d %H:%M:%S.%f') \n",
    "                date_text=d.strftime(new_format)\n",
    "                return date_text\n",
    "            except:\n",
    "                try:\n",
    "                    d=datetime.strptime(date_text , '%Y:%m:%d %H:%M:%S') \n",
    "                    date_text=d.strftime(new_format)\n",
    "                    return date_text\n",
    "                except:\n",
    "                    try:\n",
    "                        d=datetime.strptime(date_text , '%Y-%m-%d %H:%M:%S.%f') \n",
    "                        date_text=d.strftime(new_format)\n",
    "                        return date_text\n",
    "                    except:\n",
    "                        try:\n",
    "                            d=datetime.strptime(date_text , '%Y-%m-%d %H:%M:%S') \n",
    "                            date_text=d.strftime(new_format)\n",
    "                            return date_text\n",
    "                        except:\n",
    "                            print(date_text,\"New format found, include this in function\")\n"
   ]
  },
  {
   "cell_type": "code",
   "execution_count": 8,
   "metadata": {},
   "outputs": [],
   "source": [
    "data['TrackDateTime_new']=[change_datetime_syntax(k) for k in data.TrackDateTime]\n",
    "data.drop(\"TrackDateTime\",axis=1,inplace=True)\n",
    "data.rename(columns={\"TrackDateTime_new\":\"TrackDateTime\"},inplace=True)\n"
   ]
  },
  {
   "cell_type": "code",
   "execution_count": 9,
   "metadata": {},
   "outputs": [],
   "source": [
    "data = data.sort_values('TrackDateTime')\n",
    "data.reset_index(inplace=True)\n",
    "data = data.drop('index', axis=1)"
   ]
  },
  {
   "cell_type": "code",
   "execution_count": 10,
   "metadata": {},
   "outputs": [
    {
     "data": {
      "text/plain": [
       "Index(['SlNo', 'AssetNo', 'DeviceNo', 'Latitude', 'Longitude', 'Altitude',\n",
       "       'Speed', 'Satellite', 'Direction', 'Location', 'GeofenceName',\n",
       "       'MessageNumber', 'OdoMeter', 'Ignition', 'Digital1', 'Digital2',\n",
       "       'Digital3', 'Digital4', 'Analog1', 'Analog2', 'SoftwareVersion',\n",
       "       'RoadSpeed', 'DriverId', 'FuelinLtrs', 'EngineRpm', 'IbuttonId',\n",
       "       'UpdationTime', 'SqncNumber', 'OdometerLL', 'AdditionalData',\n",
       "       'TrackDateTime'],\n",
       "      dtype='object')"
      ]
     },
     "execution_count": 10,
     "metadata": {},
     "output_type": "execute_result"
    }
   ],
   "source": [
    "data.columns"
   ]
  },
  {
   "cell_type": "code",
   "execution_count": 11,
   "metadata": {},
   "outputs": [],
   "source": [
    "# To check if the datetime is in ascending order\n",
    "FMT = '%Y:%m:%d %H:%M:%S'\n",
    "\n",
    "for i in range(1, len(data.TrackDateTime), 1):\n",
    "    x = datetime.strptime(str(data.TrackDateTime.iloc[i]), FMT) - datetime.strptime(str(data.TrackDateTime.iloc[i-1]), FMT)\n",
    "    if int(x.total_seconds()) < 0:\n",
    "        # If it doesn't print anything then datetime is in ascending order\n",
    "        print(i,int(x.total_seconds()))"
   ]
  },
  {
   "cell_type": "code",
   "execution_count": 12,
   "metadata": {},
   "outputs": [],
   "source": [
    "R = 6371 # Radius of the earth in km\n",
    "dist = [0]\n",
    "for i in range(1, len(data.Longitude), 1):\n",
    "    dLat = radians(data.Latitude.iloc[i] - data.Latitude.iloc[i-1])\n",
    "    dLon = radians(data.Longitude.iloc[i] - data.Longitude.iloc[i-1])\n",
    "    rLat1 = radians(data.Latitude.iloc[i-1])\n",
    "    rLat2 = radians(data.Latitude.iloc[i])\n",
    "    a = sin(dLat/2) * sin(dLat/2) + cos(rLat1) * cos(rLat2) * sin(dLon/2) * sin(dLon/2) \n",
    "    c = 2 * atan2(sqrt(a), sqrt(1-a))\n",
    "    d = R * c\n",
    "    dist.append(d)"
   ]
  },
  {
   "cell_type": "code",
   "execution_count": 13,
   "metadata": {},
   "outputs": [],
   "source": [
    "data['distance'] = dist"
   ]
  },
  {
   "cell_type": "code",
   "execution_count": 14,
   "metadata": {},
   "outputs": [],
   "source": [
    "data['total_distance'] = pd.Series(dist).cumsum().round(2)"
   ]
  },
  {
   "cell_type": "code",
   "execution_count": 15,
   "metadata": {},
   "outputs": [],
   "source": [
    "def angle_between_vectors_degrees(u, v):\n",
    "    \"\"\"Return the angle between two vectors in any dimension space,\n",
    "    in degrees.\"\"\"\n",
    "    return np.degrees(\n",
    "        acos(np.dot(u, v) / (np.linalg.norm(u) * np.linalg.norm(v))))"
   ]
  },
  {
   "cell_type": "code",
   "execution_count": 16,
   "metadata": {},
   "outputs": [],
   "source": [
    "angle1 = [np.nan]\n",
    "\n",
    "for i in range(1,len(data['Latitude']),1):   \n",
    "    if i != len(data['Latitude'])-1:\n",
    "        # The points in tuple Latitude/Longitudeg degrees space\n",
    "        A = [data.Latitude.iloc[i-1],data.Longitude.iloc[i-1]]\n",
    "        B = [data.Latitude.iloc[i],data.Longitude.iloc[i]]\n",
    "        C = [data.Latitude.iloc[i+1],data.Longitude.iloc[i+1]]\n",
    "        try:\n",
    "            if A == B == C:\n",
    "                angle1.append(0)\n",
    "                \n",
    "            elif ((A==B) | (B==C)):\n",
    "                angle1.append(0)\n",
    "                \n",
    "            else:\n",
    "                # Convert the points to numpy Latitudeitude/Longitudegitude radians space\n",
    "                a = np.radians(np.array(A))\n",
    "                b = np.radians(np.array(B))\n",
    "                c = np.radians(np.array(C))\n",
    "                \n",
    "                # print(a,'\\n',b,'\\n',c,'\\n\\n')\n",
    "\n",
    "                # Vectors in Latitudeitude/Longitudegitude space\n",
    "                avec = a - b\n",
    "                cvec = c - b\n",
    "\n",
    "                # Adjust vectors for changed Longitudegitude scale at given Latitudeitude into 2D space\n",
    "                lat_ = b[0]\n",
    "                avec[1] *= cos(lat_)\n",
    "                cvec[1] *= cos(lat_)\n",
    "\n",
    "                # Find the angle between the vectors in 2D space\n",
    "                angle2deg = angle_between_vectors_degrees(avec, cvec)\n",
    "                angle1.append(angle2deg)\n",
    "\n",
    "        except:\n",
    "            angle1.append(0)\n",
    "    else:\n",
    "        angle1.append(np.nan)"
   ]
  },
  {
   "cell_type": "code",
   "execution_count": 17,
   "metadata": {},
   "outputs": [],
   "source": [
    "data['Angle'] = angle1"
   ]
  },
  {
   "cell_type": "markdown",
   "metadata": {},
   "source": [
    "## Sudden Acceleration"
   ]
  },
  {
   "cell_type": "code",
   "execution_count": 18,
   "metadata": {},
   "outputs": [],
   "source": [
    "sudden_acc= [np.nan]\n",
    "\n",
    "# print('{:7s}'.format('Index'),\n",
    "#       '{:20s}'.format('Datetime i-1'), \n",
    "#       '{:15s}'.format('Speed for i-1'),\n",
    "#       '{:20s}'.format('Datetime'), \n",
    "#       '{:13s}'.format('Speed for i'), \n",
    "#       '{:12s}'.format('Difference'),\n",
    "#       '{:12s}'.format('Distance covered (m)'))\n",
    "\n",
    "\n",
    "FMT = '%Y:%m:%d %H:%M:%S'\n",
    "\n",
    "for i in range(1, len(data.Speed), 1):    \n",
    "    x = datetime.strptime(str(data.TrackDateTime.iloc[i]), FMT) - datetime.strptime(str(data.TrackDateTime.iloc[i-1]), FMT)\n",
    "    y = data.Speed.iloc[i] - data.Speed.iloc[i-1]\n",
    "        \n",
    "    if (((int(x.total_seconds()) > 0) & (int(x.total_seconds()) < 7)) & (data['distance'].iloc[i] < 0.025) & (y > 30)):\n",
    "#         print('{:7s}'.format(str(i)),\n",
    "#               '{:20s}'.format(str(data.TrackDateTime.iloc[i-1])), \n",
    "#               '{:15s}'.format(str(data.Speed.iloc[i-1])),\n",
    "#               '{:20s}'.format(str(data.TrackDateTime.iloc[i])), \n",
    "#               '{:13s}'.format(str(data.Speed.iloc[i])),\n",
    "#               '{:12s}'.format(str(y.round(3))),\n",
    "#               '{:12s}'.format(str(data.distance[i]*1000))\n",
    "#              )\n",
    "        sudden_acc.append(15)\n",
    "        \n",
    "    elif (((int(x.total_seconds()) > 0) & (int(x.total_seconds()) < 62)) & (data['distance'].iloc[i] < 0.03) & (y > 40)):\n",
    "#         print('{:7s}'.format(str(i)),\n",
    "#               '{:20s}'.format(str(data.TrackDateTime.iloc[i-1])), \n",
    "#               '{:15s}'.format(str(data.Speed.iloc[i-1])),\n",
    "#               '{:20s}'.format(str(data.TrackDateTime.iloc[i])), \n",
    "#               '{:13s}'.format(str(data.Speed.iloc[i])),\n",
    "#               '{:12s}'.format(str(y.round(3))),\n",
    "#               '{:12s}'.format(str(data.distance[i]*1000))\n",
    "#              )\n",
    "        sudden_acc.append(15)\n",
    "            \n",
    "       \n",
    "    elif (((int(x.total_seconds()) > 0) & (int(x.total_seconds()) < 12)) & (data['distance'].iloc[i] < 0.04) & (y > 50)):\n",
    "#         print('{:7s}'.format(str(i)),\n",
    "#               '{:20s}'.format(str(data.TrackDateTime.iloc[i-1])), \n",
    "#               '{:15s}'.format(str(data.Speed.iloc[i-1])),\n",
    "#               '{:20s}'.format(str(data.TrackDateTime.iloc[i])), \n",
    "#               '{:13s}'.format(str(data.Speed.iloc[i])),\n",
    "#               '{:12s}'.format(str(y.round(3))),\n",
    "#               '{:12s}'.format(str(data.distance[i]*1000))\n",
    "#              )\n",
    "        sudden_acc.append(15)\n",
    "            \n",
    "    elif (((int(x.total_seconds()) > 0) & (int(x.total_seconds()) < 7) ) & (y > 30)):\n",
    "#         print('{:7s}'.format(str(i)),\n",
    "#               '{:20s}'.format(str(data.TrackDateTime.iloc[i-1])), \n",
    "#               '{:15s}'.format(str(data.Speed.iloc[i-1])),\n",
    "#               '{:20s}'.format(str(data.TrackDateTime.iloc[i])), \n",
    "#               '{:13s}'.format(str(data.Speed.iloc[i])),\n",
    "#               '{:12s}'.format(str(y.round(3))),\n",
    "#               '{:12s}'.format(str(data.distance[i]*1000))\n",
    "#              )\n",
    "        sudden_acc.append(15)\n",
    "        \n",
    "    else:\n",
    "        sudden_acc.append(0)"
   ]
  },
  {
   "cell_type": "markdown",
   "metadata": {},
   "source": [
    "## Harsh Braking"
   ]
  },
  {
   "cell_type": "code",
   "execution_count": 19,
   "metadata": {
    "scrolled": true
   },
   "outputs": [],
   "source": [
    "harsh_braking = [np.nan]\n",
    "\n",
    "# print('{:7s}'.format('Index'),\n",
    "#       '{:20s}'.format('Datetime i-1'), \n",
    "#       '{:15s}'.format('Speed for i-1'),\n",
    "#       '{:20s}'.format('Datetime'), \n",
    "#       '{:13s}'.format('Speed for i'), \n",
    "#       '{:12s}'.format('Difference'),\n",
    "#       '{:12s}'.format('Distance covered (m)'))\n",
    "\n",
    "\n",
    "FMT = '%Y:%m:%d %H:%M:%S'\n",
    "\n",
    "for i in range(1, len(data.Speed), 1):    \n",
    "    x = datetime.strptime(str(data.TrackDateTime.iloc[i]), FMT) - datetime.strptime(str(data.TrackDateTime.iloc[i-1]), FMT)\n",
    "    y = data.Speed.iloc[i] - data.Speed.iloc[i-1]\n",
    "\n",
    "    if (((int(x.total_seconds()) > 0) & (int(x.total_seconds()) < 7)) & (data['distance'].iloc[i] < 0.025) & (y < -25)):\n",
    "#         print('{:7s}'.format(str(i)),\n",
    "#               '{:20s}'.format(str(data.TrackDateTime.iloc[i-1])), \n",
    "#               '{:15s}'.format(str(data.Speed.iloc[i-1])),\n",
    "#               '{:20s}'.format(str(data.TrackDateTime.iloc[i])), \n",
    "#               '{:13s}'.format(str(data.Speed.iloc[i])),\n",
    "#               '{:12s}'.format(str(y.round(3))),\n",
    "#               '{:12s}'.format(str(data.distance[i]*1000))\n",
    "#              )\n",
    "        \n",
    "        harsh_braking.append(14)\n",
    "        \n",
    "    elif (((int(x.total_seconds()) > 0) & (int(x.total_seconds()) < 7)) & (y < -30)):\n",
    "#         print('{:7s}'.format(str(i)),\n",
    "#               '{:20s}'.format(str(data.TrackDateTime.iloc[i-1])), \n",
    "#               '{:15s}'.format(str(data.Speed.iloc[i-1])),\n",
    "#               '{:20s}'.format(str(data.TrackDateTime.iloc[i])), \n",
    "#               '{:13s}'.format(str(data.Speed.iloc[i])),\n",
    "#               '{:12s}'.format(str(y.round(3))),\n",
    "#               '{:12s}'.format(str(data.distance[i]*1000))\n",
    "#              )\n",
    "        \n",
    "        harsh_braking.append(14)\n",
    "        \n",
    "    elif (((int(x.total_seconds()) > 0) & (int(x.total_seconds()) < 22)) & (data['distance'].iloc[i] < 0.03) & (y < -40)):\n",
    "#         print('{:7s}'.format(str(i)),\n",
    "#               '{:20s}'.format(str(data.TrackDateTime.iloc[i-1])), \n",
    "#               '{:15s}'.format(str(data.Speed.iloc[i-1])),\n",
    "#               '{:20s}'.format(str(data.TrackDateTime.iloc[i])), \n",
    "#               '{:13s}'.format(str(data.Speed.iloc[i])),\n",
    "#               '{:12s}'.format(str(y.round(3))),\n",
    "#               '{:12s}'.format(str(data.distance[i]*1000))\n",
    "#              )\n",
    "        \n",
    "        harsh_braking.append(14)\n",
    "        \n",
    "    elif (((int(x.total_seconds()) > 0) & (int(x.total_seconds()) < 62)) & (data['distance'].iloc[i] < 0.025) & (y < -40)):\n",
    "#         print('{:7s}'.format(str(i)),\n",
    "#               '{:20s}'.format(str(data.TrackDateTime.iloc[i-1])), \n",
    "#               '{:15s}'.format(str(data.Speed.iloc[i-1])),\n",
    "#               '{:20s}'.format(str(data.TrackDateTime.iloc[i])), \n",
    "#               '{:13s}'.format(str(data.Speed.iloc[i])),\n",
    "#               '{:12s}'.format(str(y.round(3))),\n",
    "#               '{:12s}'.format(str(data.distance[i]*1000))\n",
    "#              )\n",
    "        \n",
    "        harsh_braking.append(14)\n",
    "       \n",
    "    elif (((int(x.total_seconds()) > 0) & (int(x.total_seconds()) < 62)) & (data['distance'].iloc[i] < 0.04) & (y < -35) & (data.Speed.iloc[i] > 50)):\n",
    "#         print('{:7s}'.format(str(i)),\n",
    "#               '{:20s}'.format(str(data.TrackDateTime.iloc[i-1])), \n",
    "#               '{:15s}'.format(str(data.Speed.iloc[i-1])),\n",
    "#               '{:20s}'.format(str(data.TrackDateTime.iloc[i])), \n",
    "#               '{:13s}'.format(str(data.Speed.iloc[i])),\n",
    "#               '{:12s}'.format(str(y.round(3))),\n",
    "#               '{:12s}'.format(str(data.distance[i]*1000))\n",
    "#                  )\n",
    "        harsh_braking.append(14)\n",
    "                   \n",
    "    elif  ((data['distance'].iloc[i] < 0.01) & (y < -25)):\n",
    "#         print('{:7s}'.format(str(i)),\n",
    "#               '{:20s}'.format(str(data.TrackDateTime.iloc[i-1])), \n",
    "#               '{:15s}'.format(str(data.Speed.iloc[i-1])),\n",
    "#               '{:20s}'.format(str(data.TrackDateTime.iloc[i])), \n",
    "#               '{:13s}'.format(str(data.Speed.iloc[i])),\n",
    "#               '{:12s}'.format(str(y.round(3))),\n",
    "#               '{:12s}'.format(str(data.distance[i]*1000))\n",
    "#              )\n",
    "        \n",
    "        harsh_braking.append(14)\n",
    "            \n",
    "    else:\n",
    "        harsh_braking.append(0)"
   ]
  },
  {
   "cell_type": "markdown",
   "metadata": {},
   "source": [
    "## Rash Turning"
   ]
  },
  {
   "cell_type": "code",
   "execution_count": 20,
   "metadata": {},
   "outputs": [],
   "source": [
    "rash_turn = [np.nan]\n",
    "\n",
    "# print('{:7s}'.format('Index'),\n",
    "#       '{:20s}'.format('Datetime i-1'),\n",
    "#       '{:20s}'.format('Datetime'), \n",
    "#       '{:13s}'.format('Speed for i'), \n",
    "#       '{:12s}'.format('Angle'),\n",
    "#       '{:15s}'.format('Alert'),\n",
    "#       '{:12s}'.format('Distance covered'))\n",
    "\n",
    "\n",
    "FMT = '%Y:%m:%d %H:%M:%S'\n",
    "\n",
    "for i in range(1, len(data.Speed), 1):\n",
    "    \n",
    "    x = datetime.strptime(str(data.TrackDateTime.iloc[i]), FMT) - datetime.strptime(str(data.TrackDateTime.iloc[i-1]), FMT)    \n",
    "    if ((int(x.total_seconds()) > 0) & (int(x.total_seconds()) < 6) & (data['distance'].iloc[i] < 0.02)):        \n",
    "        \n",
    "        if ((data['Angle'].iloc[i] > 0) & (data['Angle'].iloc[i] <= 10) & (data['Speed'].iloc[i] > 7)):\n",
    "#             print('{:07d}'.format(i),\n",
    "#                   '{:20s}'.format(str(data.TrackDateTime.iloc[i-1])),\n",
    "#                   '{:20s}'.format(str(data.TrackDateTime.iloc[i])),\n",
    "#                   '{:13s}'.format(str(data.Speed.iloc[i])),\n",
    "#                   '{:12s}'.format(str(round(data.Angle.iloc[i],3))),\n",
    "#                   '{:15s}'.format('Rash Turning'),\n",
    "#                   '{:12s}'.format(str(round(data.distance[i],3)))\n",
    "#                  )\n",
    "            rash_turn.append(32)\n",
    "            \n",
    "        elif ((data['Angle'].iloc[i] > 10) & (data['Angle'].iloc[i] <= 50) & (data['Speed'].iloc[i] > 10)):            \n",
    "#             print('{:07d}'.format(i),\n",
    "#                   '{:20s}'.format(str(data.TrackDateTime.iloc[i-1])),\n",
    "#                   '{:20s}'.format(str(data.TrackDateTime.iloc[i])),\n",
    "#                   '{:13s}'.format(str(data.Speed.iloc[i])),\n",
    "#                   '{:12s}'.format(str(round(data.Angle.iloc[i],3))),\n",
    "#                   '{:15s}'.format('Rash Turning'),\n",
    "#                   '{:12s}'.format(str(round(data.distance[i],3)))\n",
    "#                  )\n",
    "            rash_turn.append(32)\n",
    "            \n",
    "        elif ((data['Angle'].iloc[i] > 50) & (data['Angle'].iloc[i] <= 90) & (data['Speed'].iloc[i] > 13)):            \n",
    "#             print('{:07d}'.format(i),\n",
    "#                   '{:20s}'.format(str(data.TrackDateTime.iloc[i-1])),\n",
    "#                   '{:20s}'.format(str(data.TrackDateTime.iloc[i])),\n",
    "#                   '{:13s}'.format(str(data.Speed.iloc[i])),\n",
    "#                   '{:12s}'.format(str(round(data.Angle.iloc[i],3))),\n",
    "#                   '{:15s}'.format('Rash Turning'),\n",
    "#                   '{:12s}'.format(str(round(data.distance[i],3)))\n",
    "#                  )\n",
    "            rash_turn.append(32)    \n",
    "        \n",
    "        \n",
    "        elif ((data['Angle'].iloc[i] > 90) & (data['Angle'].iloc[i] <= 120) & (data['Speed'].iloc[i] > 15)):            \n",
    "#             print('{:07d}'.format(i),\n",
    "#                   '{:20s}'.format(str(data.TrackDateTime.iloc[i-1])),\n",
    "#                   '{:20s}'.format(str(data.TrackDateTime.iloc[i])),\n",
    "#                   '{:13s}'.format(str(data.Speed.iloc[i])),\n",
    "#                   '{:12s}'.format(str(round(data.Angle.iloc[i],3))),\n",
    "#                   '{:15s}'.format('Rash Turning'),\n",
    "#                   '{:12s}'.format(str(round(data.distance[i],3)))\n",
    "#                  )\n",
    "            rash_turn.append(32)\n",
    "        \n",
    "        elif ((data['Angle'].iloc[i] > 120) & (data['Angle'].iloc[i] <= 150) & (data['Speed'].iloc[i] > 22)):            \n",
    "#             print('{:07d}'.format(i),\n",
    "#                   '{:20s}'.format(str(data.TrackDateTime.iloc[i-1])),\n",
    "#                   '{:20s}'.format(str(data.TrackDateTime.iloc[i])),\n",
    "#                   '{:13s}'.format(str(data.Speed.iloc[i])),\n",
    "#                   '{:12s}'.format(str(round(data.Angle.iloc[i],3))),\n",
    "#                   '{:15s}'.format('Rash Turning'),\n",
    "#                   '{:12s}'.format(str(round(data.distance[i],3)))\n",
    "#                  )\n",
    "            rash_turn.append(32)\n",
    "        \n",
    "        elif ((data['Angle'].iloc[i] > 150) & (data['Angle'].iloc[i] <= 160) & (data['Speed'].iloc[i] > 28)):            \n",
    "#             print('{:07d}'.format(i),\n",
    "#                   '{:20s}'.format(str(data.TrackDateTime.iloc[i-1])),\n",
    "#                   '{:20s}'.format(str(data.TrackDateTime.iloc[i])),\n",
    "#                   '{:13s}'.format(str(data.Speed.iloc[i])),\n",
    "#                   '{:12s}'.format(str(round(data.Angle.iloc[i],3))),\n",
    "#                   '{:15s}'.format('Rash Turning'),\n",
    "#                   '{:12s}'.format(str(round(data.distance[i],3)))\n",
    "#                  )\n",
    "            rash_turn.append(32)\n",
    "        \n",
    "        \n",
    "        elif ((data['Angle'].iloc[i] > 160) & (data['Angle'].iloc[i] <= 170) & (data['Speed'].iloc[i] > 35)):            \n",
    "#             print('{:07d}'.format(i),\n",
    "#                   '{:20s}'.format(str(data.TrackDateTime.iloc[i-1])),\n",
    "#                   '{:20s}'.format(str(data.TrackDateTime.iloc[i])),\n",
    "#                   '{:13s}'.format(str(data.Speed.iloc[i])),\n",
    "#                   '{:12s}'.format(str(round(data.Angle.iloc[i],3))),\n",
    "#                   '{:15s}'.format('Rash Turning'),\n",
    "#                   '{:12s}'.format(str(round(data.distance[i],3)))\n",
    "#                  )\n",
    "            rash_turn.append(32)\n",
    "        \n",
    "        else:\n",
    "            rash_turn.append(0)\n",
    "        \n",
    "    else:\n",
    "        rash_turn.append(0)"
   ]
  },
  {
   "cell_type": "code",
   "execution_count": 21,
   "metadata": {},
   "outputs": [],
   "source": [
    "data['Sudden_Acceleration'] = sudden_acc\n",
    "data['Harsh_Braking'] = harsh_braking\n",
    "data['Rash_Turning'] = rash_turn"
   ]
  },
  {
   "cell_type": "markdown",
   "metadata": {},
   "source": [
    "## Driver Scorecard"
   ]
  },
  {
   "cell_type": "code",
   "execution_count": 22,
   "metadata": {},
   "outputs": [],
   "source": [
    "ds = []\n",
    "\n",
    "for i in range(0, len(data)):\n",
    "#     x = datetime.strptime(str(data.TrackDateTime.iloc[i]), FMT) - datetime.strptime(str(data.TrackDateTime.iloc[i-1]), FMT)\n",
    "    if i == 0:\n",
    "        ds.append(100)\n",
    "        \n",
    "    elif ((data['Sudden_Acceleration'].iloc[i] == 14) & (data['Rash_Turning'].iloc[i] == 32)):\n",
    "        ds.append(ds[i-1] - 10)\n",
    "        \n",
    "    elif ((data['Harsh_Braking'].iloc[i] == 15) & (data['Rash_Turning'].iloc[i] == 32)):\n",
    "        ds.append(ds[i-1] - 8)\n",
    "        \n",
    "    elif (data['Rash_Turning'].iloc[i] == 32):\n",
    "        ds.append(ds[i-1] - 5)\n",
    "        \n",
    "    elif ((data['Sudden_Acceleration'].iloc[i] == 14) | (data['Harsh_Braking'].iloc[i] == 15)):\n",
    "        ds.append(ds[i-1] - 3)\n",
    "        \n",
    "    else:\n",
    "        ds.append(ds[i-1])"
   ]
  },
  {
   "cell_type": "code",
   "execution_count": 23,
   "metadata": {},
   "outputs": [],
   "source": [
    "data['Driver_scorecard'] = ds"
   ]
  },
  {
   "cell_type": "code",
   "execution_count": 24,
   "metadata": {},
   "outputs": [],
   "source": [
    "Driver_Scorecard = data[['AssetNo',\n",
    "                         'DeviceNo',\n",
    "                         'TrackDateTime',\n",
    "                         'Longitude',\n",
    "                         'Latitude',\n",
    "                         'Sudden_Acceleration',\n",
    "                         'Harsh_Braking',\n",
    "                         'Rash_Turning',\n",
    "                         'Driver_scorecard']]"
   ]
  },
  {
   "cell_type": "code",
   "execution_count": 25,
   "metadata": {},
   "outputs": [],
   "source": [
    "Alerts = Driver_Scorecard[(Driver_Scorecard['Sudden_Acceleration'] == 14) |\n",
    "                          (Driver_Scorecard['Harsh_Braking'] == 15) |\n",
    "                          (Driver_Scorecard['Rash_Turning'] == 32)]"
   ]
  },
  {
   "cell_type": "code",
   "execution_count": 26,
   "metadata": {},
   "outputs": [
    {
     "data": {
      "text/plain": [
       "Index(['SlNo', 'AssetNo', 'DeviceNo', 'Latitude', 'Longitude', 'Altitude',\n",
       "       'Speed', 'Satellite', 'Direction', 'Location', 'GeofenceName',\n",
       "       'MessageNumber', 'OdoMeter', 'Ignition', 'Digital1', 'Digital2',\n",
       "       'Digital3', 'Digital4', 'Analog1', 'Analog2', 'SoftwareVersion',\n",
       "       'RoadSpeed', 'DriverId', 'FuelinLtrs', 'EngineRpm', 'IbuttonId',\n",
       "       'UpdationTime', 'SqncNumber', 'OdometerLL', 'AdditionalData',\n",
       "       'TrackDateTime', 'distance', 'total_distance', 'Angle',\n",
       "       'Sudden_Acceleration', 'Harsh_Braking', 'Rash_Turning',\n",
       "       'Driver_scorecard'],\n",
       "      dtype='object')"
      ]
     },
     "execution_count": 26,
     "metadata": {},
     "output_type": "execute_result"
    }
   ],
   "source": [
    "data.columns"
   ]
  },
  {
   "cell_type": "code",
   "execution_count": 27,
   "metadata": {
    "scrolled": false
   },
   "outputs": [
    {
     "data": {
      "text/html": [
       "<div>\n",
       "<style scoped>\n",
       "    .dataframe tbody tr th:only-of-type {\n",
       "        vertical-align: middle;\n",
       "    }\n",
       "\n",
       "    .dataframe tbody tr th {\n",
       "        vertical-align: top;\n",
       "    }\n",
       "\n",
       "    .dataframe thead th {\n",
       "        text-align: right;\n",
       "    }\n",
       "</style>\n",
       "<table border=\"1\" class=\"dataframe\">\n",
       "  <thead>\n",
       "    <tr style=\"text-align: right;\">\n",
       "      <th></th>\n",
       "      <th>DeviceNo</th>\n",
       "      <th>Latitude</th>\n",
       "      <th>Longitude</th>\n",
       "      <th>distance</th>\n",
       "      <th>TrackDateTime</th>\n",
       "      <th>Speed</th>\n",
       "      <th>Sudden_Acceleration</th>\n",
       "      <th>Harsh_Braking</th>\n",
       "      <th>Rash_Turning</th>\n",
       "    </tr>\n",
       "  </thead>\n",
       "  <tbody>\n",
       "    <tr>\n",
       "      <th>675</th>\n",
       "      <td>354972062885746</td>\n",
       "      <td>19.12104</td>\n",
       "      <td>73.01676</td>\n",
       "      <td>0.028115</td>\n",
       "      <td>2019:09:25 11:23:28</td>\n",
       "      <td>72</td>\n",
       "      <td>0.0</td>\n",
       "      <td>0.0</td>\n",
       "      <td>0.0</td>\n",
       "    </tr>\n",
       "    <tr>\n",
       "      <th>676</th>\n",
       "      <td>354972062885746</td>\n",
       "      <td>19.12083</td>\n",
       "      <td>73.01679</td>\n",
       "      <td>0.023563</td>\n",
       "      <td>2019:09:25 11:23:33</td>\n",
       "      <td>50</td>\n",
       "      <td>0.0</td>\n",
       "      <td>0.0</td>\n",
       "      <td>0.0</td>\n",
       "    </tr>\n",
       "    <tr>\n",
       "      <th>677</th>\n",
       "      <td>354972062885746</td>\n",
       "      <td>19.12078</td>\n",
       "      <td>73.01680</td>\n",
       "      <td>0.005658</td>\n",
       "      <td>2019:09:25 11:23:38</td>\n",
       "      <td>4</td>\n",
       "      <td>0.0</td>\n",
       "      <td>14.0</td>\n",
       "      <td>0.0</td>\n",
       "    </tr>\n",
       "    <tr>\n",
       "      <th>678</th>\n",
       "      <td>354972062885746</td>\n",
       "      <td>19.12066</td>\n",
       "      <td>73.01677</td>\n",
       "      <td>0.013711</td>\n",
       "      <td>2019:09:25 11:23:43</td>\n",
       "      <td>71</td>\n",
       "      <td>15.0</td>\n",
       "      <td>0.0</td>\n",
       "      <td>32.0</td>\n",
       "    </tr>\n",
       "    <tr>\n",
       "      <th>679</th>\n",
       "      <td>354972062885746</td>\n",
       "      <td>19.12041</td>\n",
       "      <td>73.01676</td>\n",
       "      <td>0.027819</td>\n",
       "      <td>2019:09:25 11:23:48</td>\n",
       "      <td>82</td>\n",
       "      <td>0.0</td>\n",
       "      <td>0.0</td>\n",
       "      <td>0.0</td>\n",
       "    </tr>\n",
       "    <tr>\n",
       "      <th>680</th>\n",
       "      <td>354972062885746</td>\n",
       "      <td>19.12015</td>\n",
       "      <td>73.01677</td>\n",
       "      <td>0.028930</td>\n",
       "      <td>2019:09:25 11:23:53</td>\n",
       "      <td>79</td>\n",
       "      <td>0.0</td>\n",
       "      <td>0.0</td>\n",
       "      <td>0.0</td>\n",
       "    </tr>\n",
       "  </tbody>\n",
       "</table>\n",
       "</div>"
      ],
      "text/plain": [
       "            DeviceNo  Latitude  Longitude  distance        TrackDateTime  \\\n",
       "675  354972062885746  19.12104   73.01676  0.028115  2019:09:25 11:23:28   \n",
       "676  354972062885746  19.12083   73.01679  0.023563  2019:09:25 11:23:33   \n",
       "677  354972062885746  19.12078   73.01680  0.005658  2019:09:25 11:23:38   \n",
       "678  354972062885746  19.12066   73.01677  0.013711  2019:09:25 11:23:43   \n",
       "679  354972062885746  19.12041   73.01676  0.027819  2019:09:25 11:23:48   \n",
       "680  354972062885746  19.12015   73.01677  0.028930  2019:09:25 11:23:53   \n",
       "\n",
       "     Speed  Sudden_Acceleration  Harsh_Braking  Rash_Turning  \n",
       "675     72                  0.0            0.0           0.0  \n",
       "676     50                  0.0            0.0           0.0  \n",
       "677      4                  0.0           14.0           0.0  \n",
       "678     71                 15.0            0.0          32.0  \n",
       "679     82                  0.0            0.0           0.0  \n",
       "680     79                  0.0            0.0           0.0  "
      ]
     },
     "execution_count": 27,
     "metadata": {},
     "output_type": "execute_result"
    }
   ],
   "source": [
    "data.loc[675:680][['DeviceNo','Latitude', 'Longitude','distance','TrackDateTime','Speed','Sudden_Acceleration', 'Harsh_Braking', 'Rash_Turning']]"
   ]
  },
  {
   "cell_type": "code",
   "execution_count": null,
   "metadata": {},
   "outputs": [],
   "source": [
    "73.01680,0.005658;73.01677,0.013711;73.01676,0.027819"
   ]
  },
  {
   "cell_type": "code",
   "execution_count": 27,
   "metadata": {},
   "outputs": [],
   "source": [
    "Alerts = Alerts.reset_index(drop=True)"
   ]
  },
  {
   "cell_type": "code",
   "execution_count": 28,
   "metadata": {},
   "outputs": [],
   "source": [
    "def remove_values_from_list(the_list, val):\n",
    "      return [value for value in the_list if value != val]"
   ]
  },
  {
   "cell_type": "code",
   "execution_count": 29,
   "metadata": {},
   "outputs": [],
   "source": [
    "Alerts['Alert']= [(each[5],each[6],each[7]) for each in Alerts.values] \n",
    "Alerts['Alert']=[remove_values_from_list(each, 0.0) for each in  Alerts.Alert]"
   ]
  },
  {
   "cell_type": "code",
   "execution_count": 30,
   "metadata": {},
   "outputs": [
    {
     "name": "stdout",
     "output_type": "stream",
     "text": [
      "--- 10.903682470321655 seconds ---\n"
     ]
    }
   ],
   "source": [
    "print(\"--- %s seconds ---\" % (time.time() - start_time))"
   ]
  }
 ],
 "metadata": {
  "kernelspec": {
   "display_name": "Python 3",
   "language": "python",
   "name": "python3"
  },
  "language_info": {
   "codemirror_mode": {
    "name": "ipython",
    "version": 3
   },
   "file_extension": ".py",
   "mimetype": "text/x-python",
   "name": "python",
   "nbconvert_exporter": "python",
   "pygments_lexer": "ipython3",
   "version": "3.7.1"
  }
 },
 "nbformat": 4,
 "nbformat_minor": 2
}
