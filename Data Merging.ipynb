{
 "cells": [
  {
   "cell_type": "code",
   "execution_count": 20,
   "metadata": {},
   "outputs": [
    {
     "name": "stdout",
     "output_type": "stream",
     "text": [
      "--- 0.4558088779449463 seconds ---\n"
     ]
    }
   ],
   "source": [
    "import time\n",
    "start_time = time.time()\n",
    "import pandas as pd\n",
    "import numpy as np\n",
    "data1= pd.read_csv(r\"C:\\Users\\INFO-DSK-04\\Desktop\\Asset_Data\\Data911615400042621.csv\")\n",
    "data2= pd.read_csv(r\"C:\\Users\\INFO-DSK-04\\Desktop\\Asset_Data\\Data911615400042621alerts.csv\")\n",
    "data2.rename(columns={\"AlertDatetime\":\"TrackDateTime\"},inplace=True)\n",
    "Full_data = pd.concat([data1,data2], ignore_index=True, sort=False).sort_values([ 'TrackDateTime'])\n",
    "Full_data[\"AlertTypeName\"]=Full_data.AlertType\n",
    "Full_data=Full_data.replace({'AlertTypeName': {32: \"Rash Turning\", 14: \"Harsh Breaking\",15: \"Harsh Acceleration\"}})\n",
    "Full_data.reset_index(drop=True,inplace=True)\n",
    "Full_data=Full_data[['AssetNo', 'DeviceNo', 'Latitude', 'Longitude', 'Location','TrackDateTime','Altitude', 'Speed','AlertType','AlertTypeName', 'SendStatus', 'Direction']]\n",
    "# Removing duplicate rows with or without alerts.\n",
    "Full_data_new=Full_data.groupby(by='TrackDateTime').agg({'AssetNo':'first',\n",
    "                                           'DeviceNo' :'max',\n",
    "                                           'Latitude'  :'max',\n",
    "                                           'Longitude'  :'max',\n",
    "                                           'Location' : 'first',\n",
    "                                           'Speed': 'max',\n",
    "                                           'AlertType': 'sum',\n",
    "                                            'AlertTypeName':'first',\n",
    "                                           'SendStatus': 'sum',\n",
    "                                           'Altitude': 'mean'}).reset_index()\n",
    "Full_data_new.AlertType.replace(0, np.nan, inplace=True)\n",
    "Full_data_new.to_csv(r\"C:\\Users\\INFO-DSK-04\\Desktop\\Asset_Data\\Full_data_new.csv\")\n",
    "print(\"--- %s seconds ---\" % (time.time() - start_time))"
   ]
  },
  {
   "cell_type": "code",
   "execution_count": null,
   "metadata": {},
   "outputs": [],
   "source": []
  }
 ],
 "metadata": {
  "kernelspec": {
   "display_name": "Python 3",
   "language": "python",
   "name": "python3"
  },
  "language_info": {
   "codemirror_mode": {
    "name": "ipython",
    "version": 3
   },
   "file_extension": ".py",
   "mimetype": "text/x-python",
   "name": "python",
   "nbconvert_exporter": "python",
   "pygments_lexer": "ipython3",
   "version": "3.7.1"
  }
 },
 "nbformat": 4,
 "nbformat_minor": 2
}
