{
 "cells": [
  {
   "cell_type": "code",
   "execution_count": 1,
   "metadata": {},
   "outputs": [],
   "source": [
    "# conda install -c conda-forge cassandra-driver\n",
    "import time\n",
    "start_time = time.time()\n",
    "import pandas as pd\n",
    "import numpy as np\n",
    "import datetime as dt\n",
    "import sqlite3\n",
    "from sqlite3 import Error\n",
    "from datetime import datetime\n",
    "import requests\n",
    "import json\n",
    "import ast\n",
    "import pyodbc\n",
    "from cassandra.cluster import Cluster\n",
    "import warnings\n",
    "warnings.filterwarnings(\"ignore\")\n",
    "yesterday = dt.date.today() - dt.timedelta(1)\n",
    "t = (yesterday - dt.date(1970, 1, 1)).total_seconds()\n",
    "FMT = '%Y-%m-%d %H:%M:%S'"
   ]
  },
  {
   "cell_type": "code",
   "execution_count": 2,
   "metadata": {},
   "outputs": [],
   "source": [
    "def preprocess(dat):\n",
    "    data=dat[['imei', 'devicetime', 'devicedata']]\n",
    "    data_json=data.to_json(orient='records')\n",
    "    dicti = ast.literal_eval(data_json)\n",
    "    return(dicti)"
   ]
  },
  {
   "cell_type": "markdown",
   "metadata": {},
   "source": [
    "# Send whole data with this function"
   ]
  },
  {
   "cell_type": "code",
   "execution_count": 39,
   "metadata": {},
   "outputs": [],
   "source": [
    "def send_data(data):\n",
    "    global tasks\n",
    "    dicti=preprocess(data)\n",
    "    data={'data':dicti}\n",
    "    post_call = requests.post(\"http://127.0.0.1:5000/accept_data/\",json=data)\n",
    "    print( post_call, \"POST call\")\n",
    "    print( post_call.text, \"TEXT\")\n",
    "    print( post_call.content, \"CONTENT\")\n",
    "    print(post_call.status_code, \"STATUS CODE\")\n",
    "    return(\"Done\")"
   ]
  },
  {
   "cell_type": "code",
   "execution_count": 4,
   "metadata": {},
   "outputs": [],
   "source": [
    "def execute_query(imei=[]): #Give input imei's in a list\n",
    "    query = \"select *from devicedata where imei In \"+ str(imei) +\" and devicetime>=\" + str(int(t)) +\" and devicetime<=\" + str(int(t+86399))+\"  ALLOW FILTERING;\"\n",
    "    #print(str(imei))\n",
    "    #print('Connecting to server...')\n",
    "    cluster = Cluster(['45.114.143.13'])\n",
    "    session = cluster.connect('assettl_tma')\n",
    "    data = pd.DataFrame(list(session.execute(query)))\n",
    "    time = datetime.now().strftime(\"%Y-%m-%d-%H-%M-%S\")\n",
    "    data.to_csv(r\"C:\\Users\\INFO-DSK-04\\Desktop\\Asset_Data\\Downloaded Data\\downloded_on \"+str(time)+\".csv\")\n",
    "    sql_data=data[[\"imei\",\"devicetime\",\"devicedata\"]]\n",
    "    save_sql_data(sql_data)\n",
    "    session.shutdown()\n",
    "    return(data)"
   ]
  },
  {
   "cell_type": "code",
   "execution_count": 5,
   "metadata": {},
   "outputs": [],
   "source": [
    "def save_sql_data(data):\n",
    "    sql_conn = pyodbc.connect(driver='SQL Server',\n",
    "                         host='INFO-DSK-04',\n",
    "                         database='Asset_Data',\n",
    "                         trusted_connection='yes')\n",
    "    cursor = sql_conn.cursor()\n",
    "    cursor.execute('''TRUNCATE TABLE Previous_day_data''')\n",
    "    for index, row in data.iterrows():\n",
    "        cursor.execute('''INSERT INTO [dbo].[Previous_day_data]([imei],[devicetime],[devicedata]) values(?,?,?)''', row['imei'],row['devicetime'],row['devicedata'])\n",
    "    sql_conn.commit()\n",
    "    sql_conn.close()\n",
    "    return(\"SQL Data Saved\")"
   ]
  },
  {
   "cell_type": "code",
   "execution_count": null,
   "metadata": {},
   "outputs": [],
   "source": []
  },
  {
   "cell_type": "code",
   "execution_count": 6,
   "metadata": {},
   "outputs": [],
   "source": [
    "def run_whole_process(imei):\n",
    "    start_time = time.time()\n",
    "    print(\"Starting Process to get data\")\n",
    "    data=execute_query(imei)\n",
    "    print(\"Starting Process to Process Data\")\n",
    "    send_data(data)\n",
    "    print(\"Time taken\",\"--- %s seconds ---\" % (time.time() - start_time))\n",
    "    return(\"Done\")"
   ]
  },
  {
   "cell_type": "code",
   "execution_count": 7,
   "metadata": {},
   "outputs": [],
   "source": [
    "imei=('911615400067990','861359036048302','861359036046330','869867030115077','869867030123980','869867030133294','869867030717930','869867030740296','869867030740858','869867030759999','869867030760005','869867030129649','869867030138533','869867030716288','869867030723334','869867030737730','869867030737995')"
   ]
  },
  {
   "cell_type": "code",
   "execution_count": 14,
   "metadata": {
    "collapsed": true
   },
   "outputs": [
    {
     "name": "stdout",
     "output_type": "stream",
     "text": [
      "Starting Process to get data\n"
     ]
    },
    {
     "ename": "NoHostAvailable",
     "evalue": "('Unable to connect to any servers', {'45.114.143.13:9042': ConnectionRefusedError(10061, \"Tried connecting to [('45.114.143.13', 9042)]. Last error: No connection could be made because the target machine actively refused it\")})",
     "output_type": "error",
     "traceback": [
      "\u001b[1;31m---------------------------------------------------------------------------\u001b[0m",
      "\u001b[1;31mNoHostAvailable\u001b[0m                           Traceback (most recent call last)",
      "\u001b[1;32m<ipython-input-14-54d8dc06ddcd>\u001b[0m in \u001b[0;36m<module>\u001b[1;34m\u001b[0m\n\u001b[1;32m----> 1\u001b[1;33m \u001b[0mrun_whole_process\u001b[0m\u001b[1;33m(\u001b[0m\u001b[0mimei\u001b[0m\u001b[1;33m)\u001b[0m\u001b[1;33m\u001b[0m\u001b[1;33m\u001b[0m\u001b[0m\n\u001b[0m",
      "\u001b[1;32m<ipython-input-6-fb38e482ff49>\u001b[0m in \u001b[0;36mrun_whole_process\u001b[1;34m(imei)\u001b[0m\n\u001b[0;32m      2\u001b[0m     \u001b[0mstart_time\u001b[0m \u001b[1;33m=\u001b[0m \u001b[0mtime\u001b[0m\u001b[1;33m.\u001b[0m\u001b[0mtime\u001b[0m\u001b[1;33m(\u001b[0m\u001b[1;33m)\u001b[0m\u001b[1;33m\u001b[0m\u001b[1;33m\u001b[0m\u001b[0m\n\u001b[0;32m      3\u001b[0m     \u001b[0mprint\u001b[0m\u001b[1;33m(\u001b[0m\u001b[1;34m\"Starting Process to get data\"\u001b[0m\u001b[1;33m)\u001b[0m\u001b[1;33m\u001b[0m\u001b[1;33m\u001b[0m\u001b[0m\n\u001b[1;32m----> 4\u001b[1;33m     \u001b[0mdata\u001b[0m\u001b[1;33m=\u001b[0m\u001b[0mexecute_query\u001b[0m\u001b[1;33m(\u001b[0m\u001b[0mimei\u001b[0m\u001b[1;33m)\u001b[0m\u001b[1;33m\u001b[0m\u001b[1;33m\u001b[0m\u001b[0m\n\u001b[0m\u001b[0;32m      5\u001b[0m     \u001b[0mprint\u001b[0m\u001b[1;33m(\u001b[0m\u001b[1;34m\"Starting Process to Process Data\"\u001b[0m\u001b[1;33m)\u001b[0m\u001b[1;33m\u001b[0m\u001b[1;33m\u001b[0m\u001b[0m\n\u001b[0;32m      6\u001b[0m     \u001b[0msend_data\u001b[0m\u001b[1;33m(\u001b[0m\u001b[0mdata\u001b[0m\u001b[1;33m)\u001b[0m\u001b[1;33m\u001b[0m\u001b[1;33m\u001b[0m\u001b[0m\n",
      "\u001b[1;32m<ipython-input-4-76dc77243c1c>\u001b[0m in \u001b[0;36mexecute_query\u001b[1;34m(imei)\u001b[0m\n\u001b[0;32m      4\u001b[0m     \u001b[1;31m#print('Connecting to server...')\u001b[0m\u001b[1;33m\u001b[0m\u001b[1;33m\u001b[0m\u001b[1;33m\u001b[0m\u001b[0m\n\u001b[0;32m      5\u001b[0m     \u001b[0mcluster\u001b[0m \u001b[1;33m=\u001b[0m \u001b[0mCluster\u001b[0m\u001b[1;33m(\u001b[0m\u001b[1;33m[\u001b[0m\u001b[1;34m'45.114.143.13'\u001b[0m\u001b[1;33m]\u001b[0m\u001b[1;33m)\u001b[0m\u001b[1;33m\u001b[0m\u001b[1;33m\u001b[0m\u001b[0m\n\u001b[1;32m----> 6\u001b[1;33m     \u001b[0msession\u001b[0m \u001b[1;33m=\u001b[0m \u001b[0mcluster\u001b[0m\u001b[1;33m.\u001b[0m\u001b[0mconnect\u001b[0m\u001b[1;33m(\u001b[0m\u001b[1;34m'assettl_tma'\u001b[0m\u001b[1;33m)\u001b[0m\u001b[1;33m\u001b[0m\u001b[1;33m\u001b[0m\u001b[0m\n\u001b[0m\u001b[0;32m      7\u001b[0m     \u001b[0mdata\u001b[0m \u001b[1;33m=\u001b[0m \u001b[0mpd\u001b[0m\u001b[1;33m.\u001b[0m\u001b[0mDataFrame\u001b[0m\u001b[1;33m(\u001b[0m\u001b[0mlist\u001b[0m\u001b[1;33m(\u001b[0m\u001b[0msession\u001b[0m\u001b[1;33m.\u001b[0m\u001b[0mexecute\u001b[0m\u001b[1;33m(\u001b[0m\u001b[0mquery\u001b[0m\u001b[1;33m)\u001b[0m\u001b[1;33m)\u001b[0m\u001b[1;33m)\u001b[0m\u001b[1;33m\u001b[0m\u001b[1;33m\u001b[0m\u001b[0m\n\u001b[0;32m      8\u001b[0m     \u001b[0mtime\u001b[0m \u001b[1;33m=\u001b[0m \u001b[0mdatetime\u001b[0m\u001b[1;33m.\u001b[0m\u001b[0mnow\u001b[0m\u001b[1;33m(\u001b[0m\u001b[1;33m)\u001b[0m\u001b[1;33m.\u001b[0m\u001b[0mstrftime\u001b[0m\u001b[1;33m(\u001b[0m\u001b[1;34m\"%Y-%m-%d-%H-%M-%S\"\u001b[0m\u001b[1;33m)\u001b[0m\u001b[1;33m\u001b[0m\u001b[1;33m\u001b[0m\u001b[0m\n",
      "\u001b[1;32m~\\Anaconda3\\lib\\site-packages\\cassandra\\cluster.cp37-win_amd64.pyd\u001b[0m in \u001b[0;36mcassandra.cluster.Cluster.connect\u001b[1;34m()\u001b[0m\n",
      "\u001b[1;32m~\\Anaconda3\\lib\\site-packages\\cassandra\\cluster.cp37-win_amd64.pyd\u001b[0m in \u001b[0;36mcassandra.cluster.Cluster.connect\u001b[1;34m()\u001b[0m\n",
      "\u001b[1;32m~\\Anaconda3\\lib\\site-packages\\cassandra\\cluster.cp37-win_amd64.pyd\u001b[0m in \u001b[0;36mcassandra.cluster.Cluster.connect\u001b[1;34m()\u001b[0m\n",
      "\u001b[1;32m~\\Anaconda3\\lib\\site-packages\\cassandra\\cluster.cp37-win_amd64.pyd\u001b[0m in \u001b[0;36mcassandra.cluster.ControlConnection.connect\u001b[1;34m()\u001b[0m\n",
      "\u001b[1;32m~\\Anaconda3\\lib\\site-packages\\cassandra\\cluster.cp37-win_amd64.pyd\u001b[0m in \u001b[0;36mcassandra.cluster.ControlConnection._reconnect_internal\u001b[1;34m()\u001b[0m\n",
      "\u001b[1;31mNoHostAvailable\u001b[0m: ('Unable to connect to any servers', {'45.114.143.13:9042': ConnectionRefusedError(10061, \"Tried connecting to [('45.114.143.13', 9042)]. Last error: No connection could be made because the target machine actively refused it\")})"
     ]
    }
   ],
   "source": [
    "run_whole_process(imei)"
   ]
  },
  {
   "cell_type": "code",
   "execution_count": 11,
   "metadata": {},
   "outputs": [],
   "source": [
    "data = pd.read_csv(r'C:\\Users\\INFO-DSK-04\\Downloads\\cassandra_data_20_11-2019.csv')"
   ]
  },
  {
   "cell_type": "code",
   "execution_count": 42,
   "metadata": {},
   "outputs": [
    {
     "name": "stdout",
     "output_type": "stream",
     "text": [
      "<Response [200]> POST call\n",
      "OK TEXT\n",
      "b'OK' CONTENT\n",
      "200 STATUS CODE\n"
     ]
    },
    {
     "data": {
      "text/plain": [
       "'Done'"
      ]
     },
     "execution_count": 42,
     "metadata": {},
     "output_type": "execute_result"
    }
   ],
   "source": [
    "send_data(data)"
   ]
  },
  {
   "cell_type": "code",
   "execution_count": 15,
   "metadata": {},
   "outputs": [],
   "source": []
  },
  {
   "cell_type": "code",
   "execution_count": null,
   "metadata": {
    "scrolled": true
   },
   "outputs": [],
   "source": []
  },
  {
   "cell_type": "code",
   "execution_count": null,
   "metadata": {},
   "outputs": [],
   "source": []
  }
 ],
 "metadata": {
  "kernelspec": {
   "display_name": "Python 3",
   "language": "python",
   "name": "python3"
  },
  "language_info": {
   "codemirror_mode": {
    "name": "ipython",
    "version": 3
   },
   "file_extension": ".py",
   "mimetype": "text/x-python",
   "name": "python",
   "nbconvert_exporter": "python",
   "pygments_lexer": "ipython3",
   "version": "3.7.1"
  }
 },
 "nbformat": 4,
 "nbformat_minor": 2
}
